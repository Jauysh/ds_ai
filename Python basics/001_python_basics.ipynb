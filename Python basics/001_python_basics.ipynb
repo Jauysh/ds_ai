{
 "cells": [
  {
   "cell_type": "markdown",
   "metadata": {},
   "source": [
    "# Python Basics Bootcamp 🚀🐍\n",
    "### The Ultimate Python Playground for Teens!\n",
    "\n",
    "Imagine Python is like building with LEGO blocks - we'll snap together coding concepts to make awesome digital creations! Let's begin our coding adventure...\n",
    "\n",
    "![Python Meme](https://i.imgflip.com/7w0u01.jpg) *(Just kidding - we'll explain everything!)*"
   ]
  },
  {
   "cell_type": "markdown",
   "metadata": {},
   "source": [
    "## 1. Variables & Keywords 🍱\n",
    "Variables are like lunchboxes - you put different foods (values) in them!\n",
    "\n",
    "**Try It:** Make a variable called `game_high_score` and set it to 2500"
   ]
  },
  {
   "cell_type": "code",
   "execution_count": 75,
   "metadata": {},
   "outputs": [
    {
     "name": "stdout",
     "output_type": "stream",
     "text": [
      "Pizza 95 True\n"
     ]
    }
   ],
   "source": [
    "my_lunch = \"Pizza\"  # 🍕 Lunchbox labeled 'my_lunch' holds pizza\n",
    "math_score = 95     # 📊 Lunchbox labeled 'math_score' holds 95\n",
    "is_hungry = True    # 🤤 Lunchbox says whether we're hungry\n",
    "print(my_lunch, math_score, is_hungry) "
   ]
  },
  {
   "cell_type": "markdown",
   "metadata": {},
   "source": [
    "## 2. Data Types & Operators 🍔🔢\n",
    "Data types are like different foods - you handle them differently!\n",
    "\n",
    "| Data Type | Example          | Real-World Analog |\n",
    "|-----------|------------------|-------------------|\n",
    "| int       | `42`             | Whole pizza slices 🍕 |\n",
    "| float     | `3.14`           | Pizza percentage (π slice?) 🥧 |\n",
    "| str       | `\"Hello\"`        | Text message 💬 |\n",
    "| bool      | `True`/`False`   | Light switch 💡 |\n"
   ]
  },
  {
   "cell_type": "code",
   "execution_count": 76,
   "metadata": {},
   "outputs": [
    {
     "name": "stdout",
     "output_type": "stream",
     "text": [
      "You have 50 perfect beach days! 🏖️\n"
     ]
    }
   ],
   "source": [
    "# Math Operators are your basic calculator\n",
    "summer_days = 90 // 2 + 5  # ➗ Division then ➕ addition\n",
    "print(f\"You have {summer_days} perfect beach days! 🏖️\")"
   ]
  },
  {
   "cell_type": "markdown",
   "metadata": {},
   "source": [
    "## 3. Lists 📚\n",
    "A list is like a backpack - holds multiple items and you can add/remove stuff!\n",
    "\n",
    "**Pro Tip:** Lists are MUTABLE - meaning you can change them after creation!"
   ]
  },
  {
   "cell_type": "code",
   "execution_count": 77,
   "metadata": {},
   "outputs": [
    {
     "name": "stdout",
     "output_type": "stream",
     "text": [
      "Check your backpack: ['Switch', 'Headphones', 'Energy Drink', 'Cool New Game']\n"
     ]
    }
   ],
   "source": [
    "# Your gaming backpack:\n",
    "game_backpack = [\"Switch\", \"Headphones\", \"Energy Drink\"]\n",
    "game_backpack.append(\"Cool New Game\")  # ➕ Add to backpack\n",
    "print(\"Check your backpack:\", game_backpack)"
   ]
  },
  {
   "cell_type": "markdown",
   "metadata": {},
   "source": [
    "## 4. Tuples 🔒\n",
    "Tuples are like locked lunchboxes - once packed, you can't change them!\n",
    "\n",
    "*Why use tuples? For things that shouldn't change - like birthdays!* 🎂"
   ]
  },
  {
   "cell_type": "code",
   "execution_count": 78,
   "metadata": {},
   "outputs": [
    {
     "name": "stdout",
     "output_type": "stream",
     "text": [
      "Can't change these grades! ('A', 'B+', 'A-')\n"
     ]
    }
   ],
   "source": [
    "final_grades = (\"A\", \"B+\", \"A-\")  # 📦 Locked report card\n",
    "print(\"Can't change these grades!\", final_grades)"
   ]
  },
  {
   "cell_type": "markdown",
   "metadata": {},
   "source": [
    "## 5. Sets 🎯\n",
    "Sets are like your friend group - unique individuals with no duplicates!\n",
    "\n",
    "*Note: Sets automatically remove duplicates - no copycats allowed!* 🙅♂️"
   ]
  },
  {
   "cell_type": "code",
   "execution_count": 79,
   "metadata": {},
   "outputs": [
    {
     "name": "stdout",
     "output_type": "stream",
     "text": [
      "Squad Goals: {'Jordan', 'Taylor', 'Sam', 'Alex'}\n"
     ]
    }
   ],
   "source": [
    "friends = {\"Alex\", \"Sam\", \"Jordan\"} \n",
    "friends.add(\"Taylor\")  # 👥 New friend joins\n",
    "print(\"Squad Goals:\", friends)"
   ]
  },
  {
   "cell_type": "markdown",
   "metadata": {},
   "source": [
    "## 6. Dictionaries 📖\n",
    "Dictionaries are like Instagram profiles - key details about someone!\n",
    "\n",
    "**Try It:** Make a dictionary for your favorite video game character!"
   ]
  },
  {
   "cell_type": "code",
   "execution_count": 80,
   "metadata": {},
   "outputs": [
    {
     "name": "stdout",
     "output_type": "stream",
     "text": [
      "Check my stats! 🔥 2500\n"
     ]
    }
   ],
   "source": [
    "my_profile = {\n",
    "    \"username\": \"@python_pro\",\n",
    "    \"followers\": 2500,\n",
    "    \"verified\": True\n",
    "}\n",
    "print(\"Check my stats! 🔥\", my_profile[\"followers\"])"
   ]
  },
  {
   "cell_type": "markdown",
   "metadata": {},
   "source": [
    "## 7. Loops & Iterations 🔄\n",
    "Loops are like TikTok dances - repeat cool moves!\n"
   ]
  },
  {
   "cell_type": "code",
   "execution_count": 81,
   "metadata": {},
   "outputs": [
    {
     "name": "stdout",
     "output_type": "stream",
     "text": [
      "Pushup 1: 💪 Up... Down!\n",
      "Pushup 2: 💪 Up... Down!\n",
      "Pushup 3: 💪 Up... Down!\n",
      "🍕 Omnomnom... 8 left!\n",
      "🍕 Omnomnom... 7 left!\n",
      "🍕 Omnomnom... 6 left!\n",
      "🍕 Omnomnom... 5 left!\n",
      "🍕 Omnomnom... 4 left!\n",
      "🍕 Omnomnom... 3 left!\n",
      "🍕 Omnomnom... 2 left!\n",
      "🍕 Omnomnom... 1 left!\n"
     ]
    }
   ],
   "source": [
    "# For loop - precise repetitions\n",
    "for rep in range(3):\n",
    "    print(f\"Pushup {rep+1}: 💪 Up... Down!\")\n",
    "\n",
    "# While loop - keep going until condition\n",
    "pizza_slices = 8\n",
    "while pizza_slices > 0:\n",
    "    print(\"🍕 Omnomnom...\", pizza_slices, \"left!\")\n",
    "    pizza_slices -= 1"
   ]
  },
  {
   "cell_type": "markdown",
   "metadata": {},
   "source": [
    "## 8. Functions 🎁\n",
    "Functions are like vending machines - insert input, get output!\n",
    "\n",
    "*Pro Tip: Functions help avoid repeating code - write once, use often!*"
   ]
  },
  {
   "cell_type": "code",
   "execution_count": 82,
   "metadata": {},
   "outputs": [
    {
     "name": "stdout",
     "output_type": "stream",
     "text": [
      "Here's your KitKat! 🍫\n"
     ]
    }
   ],
   "source": [
    "def snack_machine(coins, choice):\n",
    "    \"\"\"Dispenses snacks based on coins inserted\"\"\"\n",
    "    if coins >= 2:\n",
    "        return f\"Here's your {choice}! 🍫\"\n",
    "    return \"Need more coins! 💰\"\n",
    "\n",
    "print(snack_machine(3, \"KitKat\"))"
   ]
  },
  {
   "cell_type": "markdown",
   "metadata": {},
   "source": [
    "## 9. Map/Reduce/Filter 🍔🔧\n",
    "These are like a fast-food assembly line for data!\n",
    "\n",
    "*Pro Tip: These tools help process data efficiently!*"
   ]
  },
  {
   "cell_type": "code",
   "execution_count": 83,
   "metadata": {},
   "outputs": [
    {
     "name": "stdout",
     "output_type": "stream",
     "text": [
      "Total: $15 💵\n"
     ]
    }
   ],
   "source": [
    "orders = [\"burger\", \"fries\", \"shake\"]\n",
    "\n",
    "# MAP: Prepare each order\n",
    "prepared = list(map(lambda x: f\"🍟 {x}\", orders))\n",
    "\n",
    "# FILTER: Find fries orders\n",
    "fries = list(filter(lambda x: \"fries\" in x, prepared))\n",
    "\n",
    "# REDUCE: Combine orders\n",
    "from functools import reduce\n",
    "total = reduce(lambda acc, item: acc + 5, prepared, 0)\n",
    "print(f\"Total: ${total} 💵\")"
   ]
  },
  {
   "cell_type": "markdown",
   "metadata": {},
   "source": [
    "## 10. File Handling 🔓\n",
    "Files are like school lockers - store and retrieve stuff!\n",
    "\n",
    "**Try It:** Create a file for your gaming cheat codes!"
   ]
  },
  {
   "cell_type": "code",
   "execution_count": 84,
   "metadata": {},
   "outputs": [
    {
     "name": "stdout",
     "output_type": "stream",
     "text": [
      "Tonight's homework:\n",
      " Math: Page 42 📚\n",
      "Science: Lab report 🔬\n"
     ]
    }
   ],
   "source": [
    "# Writing to a locker (file)\n",
    "with open(\"homework.txt\", \"w\") as locker:\n",
    "    locker.write(\"Math: Page 42 📚\\nScience: Lab report 🔬\")\n",
    "\n",
    "# Reading from locker\n",
    "with open(\"homework.txt\") as locker:\n",
    "    print(\"Tonight's homework:\\n\", locker.read())"
   ]
  },
  {
   "cell_type": "markdown",
   "metadata": {},
   "source": [
    "## 11. Control Structures 🚦\n",
    "Like choose-your-own-adventure game decisions!\n",
    "\n",
    "*Note: Use these to make smart program decisions!*"
   ]
  },
  {
   "cell_type": "code",
   "execution_count": 85,
   "metadata": {},
   "outputs": [
    {
     "name": "stdout",
     "output_type": "stream",
     "text": [
      "Beach day! 🏄♂️\n"
     ]
    }
   ],
   "source": [
    "weather = \"sunny\"\n",
    "time = \"afternoon\"\n",
    "\n",
    "if weather == \"rainy\" and time == \"night\":\n",
    "    print(\"Netflix marathon time! 🍿\")\n",
    "elif weather == \"sunny\" or \"park\" in plans:\n",
    "    print(\"Beach day! 🏄♂️\")\n",
    "else:\n",
    "    print(\"Coding time! 💻\")"
   ]
  },
  {
   "cell_type": "markdown",
   "metadata": {},
   "source": [
    "## 12. OOPs (Object-Oriented Programming) 👾\n",
    "Create blueprints for game characters!\n",
    "\n",
    "**Pro Tip:** Inheritance lets characters share powers - like mages inheriting from wizards!"
   ]
  },
  {
   "cell_type": "code",
   "execution_count": 86,
   "metadata": {},
   "outputs": [
    {
     "name": "stdout",
     "output_type": "stream",
     "text": [
      "Code Warrior attacks! ⚔️\n"
     ]
    }
   ],
   "source": [
    "class GameCharacter:\n",
    "    def __init__(self, name, health):\n",
    "        self.name = name\n",
    "        self.health = health\n",
    "        \n",
    "    def attack(self):\n",
    "        print(f\"{self.name} attacks! ⚔️\")\n",
    "\n",
    "# Create a character\n",
    "hero = GameCharacter(\"Code Warrior\", 100)\n",
    "hero.attack()"
   ]
  },
  {
   "cell_type": "markdown",
   "metadata": {},
   "source": [
    "## 13. NumPy 🧮\n",
    "NumPy arrays are like super-powered gaming inventories - store and manage data efficiently!\n",
    "\n",
    "*Pro Tip: NumPy makes math operations lightning fast!*"
   ]
  },
  {
   "cell_type": "code",
   "execution_count": 87,
   "metadata": {},
   "outputs": [
    {
     "name": "stdout",
     "output_type": "stream",
     "text": [
      "Average score: 90.0 ⚡\n"
     ]
    }
   ],
   "source": [
    "import numpy as np\n",
    "# Create an array of game scores\n",
    "scores = np.array([85, 92, 88, 95])\n",
    "print(\"Average score:\", np.mean(scores), \"⚡\")"
   ]
  },
  {
   "cell_type": "markdown",
   "metadata": {},
   "source": [
    "## 14. Pandas 🐼\n",
    "Pandas DataFrames are like super-organized school binders!\n",
    "\n",
    "**Try It:** Make a DataFrame of your favorite songs!"
   ]
  },
  {
   "cell_type": "code",
   "execution_count": 88,
   "metadata": {},
   "outputs": [
    {
     "name": "stdout",
     "output_type": "stream",
     "text": [
      "Your Gaming Stats:\n",
      "         Game  Hours Played\n",
      "0   Fortnite            45\n",
      "1  Minecraft           120\n",
      "2     Roblox            85\n"
     ]
    }
   ],
   "source": [
    "import pandas as pd\n",
    "game_collection = pd.DataFrame({\n",
    "    \"Game\": [\"Fortnite\", \"Minecraft\", \"Roblox\"],\n",
    "    \"Hours Played\": [45, 120, 85]\n",
    "})\n",
    "print(\"Your Gaming Stats:\\n\", game_collection)"
   ]
  },
  {
   "cell_type": "markdown",
   "metadata": {},
   "source": [
    "## 15. Data Visualization 📊\n",
    "Turn numbers into cool memes and infographics!"
   ]
  },
  {
   "cell_type": "code",
   "execution_count": 89,
   "metadata": {},
   "outputs": [
    {
     "name": "stdout",
     "output_type": "stream",
     "text": [
      "Coming up next: Let's make some charts! 🎨\n"
     ]
    }
   ],
   "source": [
    "# We'll use Matplotlib/Seaborn for actual plotting\n",
    "print(\"Coming up next: Let's make some charts! 🎨\")"
   ]
  },
  {
   "cell_type": "markdown",
   "metadata": {},
   "source": [
    "## 16. Matplotlib 📈\n",
    "Like a digital sketchpad for data art!"
   ]
  },
  {
   "cell_type": "code",
   "execution_count": 90,
   "metadata": {},
   "outputs": [
    {
     "name": "stderr",
     "output_type": "stream",
     "text": [
      "/opt/anaconda3/envs/ds_ai_env/lib/python3.12/site-packages/IPython/core/pylabtools.py:170: UserWarning: Glyph 128200 (\\N{CHART WITH UPWARDS TREND}) missing from font(s) DejaVu Sans.\n",
      "  fig.canvas.print_figure(bytes_io, **kw)\n"
     ]
    },
    {
     "data": {
      "image/png": "[encoded data removed]",
      "text/plain": [
       "<Figure size 640x480 with 1 Axes>"
      ]
     },
     "metadata": {},
     "output_type": "display_data"
    }
   ],
   "source": [
    "import matplotlib.pyplot as plt\n",
    "plt.plot([1, 2, 3], [5, 2, 7], '-o')\n",
    "plt.title(\"Your Gaming Progress 📈\")\n",
    "plt.show()"
   ]
  },
  {
   "cell_type": "markdown",
   "metadata": {},
   "source": [
    "## 17. Seaborn 🌊\n",
    "Fancy chart templates for stylish visualizations!"
   ]
  },
  {
   "cell_type": "code",
   "execution_count": 91,
   "metadata": {},
   "outputs": [
    {
     "name": "stderr",
     "output_type": "stream",
     "text": [
      "/opt/anaconda3/envs/ds_ai_env/lib/python3.12/site-packages/IPython/core/pylabtools.py:170: UserWarning: Glyph 127869 (\\N{FORK AND KNIFE WITH PLATE}) missing from font(s) DejaVu Sans.\n",
      "  fig.canvas.print_figure(bytes_io, **kw)\n"
     ]
    },
    {
     "data": {
      "image/png": "[encoded data removed]",
      "text/plain": [
       "<Figure size 640x480 with 1 Axes>"
      ]
     },
     "metadata": {},
     "output_type": "display_data"
    }
   ],
   "source": [
    "import seaborn as sns\n",
    "tips = sns.load_dataset(\"tips\")\n",
    "sns.boxplot(x=\"day\", y=\"total_bill\", data=tips)\n",
    "plt.title(\"Restaurant Stats 🍽️\")\n",
    "plt.show()"
   ]
  },
  {
   "cell_type": "code",
   "execution_count": 92,
   "metadata": {},
   "outputs": [
    {
     "name": "stdout",
     "output_type": "stream",
     "text": [
      "Hello World! 🌎\n",
      "But let's make it cooler...\n",
      "🐍 Python is like a snake that can do math! 🧮\n"
     ]
    }
   ],
   "source": [
    "# Let's start coding! Your first program:\n",
    "print(\"Hello World! 🌎\")  # Traditional first program\n",
    "print(\"But let's make it cooler...\")\n",
    "print(\"🐍 Python is like a snake that can do math! 🧮\")"
   ]
  },
  {
   "cell_type": "code",
   "execution_count": null,
   "metadata": {},
   "outputs": [],
   "source": []
  }
 ],
 "metadata": {
  "kernelspec": {
   "display_name": "ds_ai_env",
   "language": "python",
   "name": "python3"
  },
  "language_info": {
   "codemirror_mode": {
    "name": "ipython",
    "version": 3
   },
   "file_extension": ".py",
   "mimetype": "text/x-python",
   "name": "python",
   "nbconvert_exporter": "python",
   "pygments_lexer": "ipython3",
   "version": "3.12.9"
  }
 },
 "nbformat": 4,
 "nbformat_minor": 4
}
